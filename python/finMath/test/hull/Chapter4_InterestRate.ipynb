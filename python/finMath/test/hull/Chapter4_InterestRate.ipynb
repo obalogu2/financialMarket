{
 "cells": [
  {
   "cell_type": "code",
   "id": "initial_id",
   "metadata": {
    "collapsed": true,
    "ExecuteTime": {
     "end_time": "2025-07-12T00:00:52.587851Z",
     "start_time": "2025-07-12T00:00:50.707170Z"
    }
   },
   "source": [
    "import pandas as pd\n",
    "\n",
    "from scipy.optimize import root_scalar, RootResults\n",
    "\n",
    "from functions import RatesUtil\n",
    "from functions.assetClasses.bond import BondPricing"
   ],
   "outputs": [],
   "execution_count": 1
  },
  {
   "metadata": {},
   "cell_type": "markdown",
   "source": "Question 4.1 solution",
   "id": "b3659aef064c9708"
  },
  {
   "metadata": {
    "ExecuteTime": {
     "end_time": "2025-07-12T00:00:55.043359Z",
     "start_time": "2025-07-12T00:00:55.037518Z"
    }
   },
   "cell_type": "code",
   "source": [
    "print(RatesUtil.conversion_btw_discrete_continuous(0.14, 4, False))\n",
    "print(RatesUtil.conversion_btw_discrete(0.14, 4, 1))"
   ],
   "id": "c1f2a2fe52e234f",
   "outputs": [
    {
     "name": "stdout",
     "output_type": "stream",
     "text": [
      "0.13760570686932927\n",
      "0.14752300062499968\n"
     ]
    }
   ],
   "execution_count": 2
  },
  {
   "metadata": {},
   "cell_type": "markdown",
   "source": "Question 4.3 Solution",
   "id": "36b731fcc4a039d8"
  },
  {
   "metadata": {
    "ExecuteTime": {
     "end_time": "2025-07-12T00:01:01.746022Z",
     "start_time": "2025-07-12T00:01:01.733237Z"
    }
   },
   "cell_type": "code",
   "source": [
    "bondPrice: float = BondPricing.bond_pricing_vanilla(100, 1.5, 0.08, 0.104)\n",
    "print(f\"Bond Price = {bondPrice}\")\n",
    "\n",
    "# The second part of the question could be solved using and adhoc method but lack extensibility, here we go\n",
    "# For 6 month and 1-year coupon payment the present value is\n",
    "present_value: float = 4/1.05 + 4/(1.05**2)\n",
    "print(f\"6 and 12 Month present value = {present_value}\")\n",
    "\n",
    "diff: float = bondPrice - present_value\n",
    "diff = 104*(1/diff)\n",
    "zeros_18: float = 2*(diff**(1/3) -1)\n",
    "print(f\"18 Month zero rate = {zeros_18}\")\n",
    "\n",
    "# The better approach is to use either Newton-Raphson, bisection, secant method to solve the problem\n",
    "# this method is more production like code\n",
    "\n",
    "# define your function\n",
    "def finding_zeros(zero_18: float) -> float:\n",
    "    return present_value + 104/(1+zero_18/2)**3 - bondPrice\n",
    "\n",
    "\n",
    "result: RootResults = root_scalar(finding_zeros, method='secant', x0=0.001, x1=1)\n",
    "print(result)\n",
    "\n",
    "payout: float = 1100.00\n",
    "initial_investment: float = 1000.00\n",
    "annual: float = RatesUtil.get_percentage_return(initial_investment, payout, 1.0, 1.0)\n",
    "semi_annual: float = RatesUtil.get_percentage_return(initial_investment, payout, 1, 2)\n",
    "monthly: float = RatesUtil.get_percentage_return(initial_investment, payout, 1, 12)\n",
    "continuos: float = RatesUtil.get_percentage_return(initial_investment, payout, is_continuous=True)\n",
    "\n",
    "print(f\"Given payout of {payout} and initial investment of {initial_investment} Annual compounding is {annual}\")\n",
    "print(f\"Given payout of {payout} and initial investment of {initial_investment} Semiannual compounding is {semi_annual}\")\n",
    "print(f\"Given payout of {payout} and initial investment of {initial_investment} Monthly compounding is {monthly}\")\n",
    "print(f\"Given payout of {payout} and initial investment of {initial_investment} continuous compounding is {continuos}\")"
   ],
   "id": "4cf49611ff8f00dd",
   "outputs": [
    {
     "name": "stdout",
     "output_type": "stream",
     "text": [
      "Bond Price = 96.74431066423686\n",
      "6 and 12 Month present value = 7.437641723356009\n",
      "18 Month zero rate = 0.10416509396963036\n",
      "      converged: True\n",
      "           flag: converged\n",
      " function_calls: 8\n",
      "     iterations: 7\n",
      "           root: 0.10416509396965343\n",
      "         method: secant\n",
      "Given payout of 1100.0 and initial investment of 1000.0 Annual compounding is 0.10000000000000009\n",
      "Given payout of 1100.0 and initial investment of 1000.0 Semiannual compounding is 0.09761769634030326\n",
      "Given payout of 1100.0 and initial investment of 1000.0 Monthly compounding is 0.09568968514684517\n",
      "Given payout of 1100.0 and initial investment of 1000.0 continuous compounding is 0.09531017980432493\n"
     ]
    }
   ],
   "execution_count": 3
  }
 ],
 "metadata": {
  "kernelspec": {
   "display_name": "Python 3",
   "language": "python",
   "name": "python3"
  },
  "language_info": {
   "codemirror_mode": {
    "name": "ipython",
    "version": 2
   },
   "file_extension": ".py",
   "mimetype": "text/x-python",
   "name": "python",
   "nbconvert_exporter": "python",
   "pygments_lexer": "ipython2",
   "version": "2.7.6"
  }
 },
 "nbformat": 4,
 "nbformat_minor": 5
}
