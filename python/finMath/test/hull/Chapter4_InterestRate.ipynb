{
 "cells": [
  {
   "cell_type": "code",
   "id": "initial_id",
   "metadata": {
    "collapsed": true,
    "ExecuteTime": {
     "end_time": "2025-07-12T05:33:16.319762Z",
     "start_time": "2025-07-12T05:33:13.271985Z"
    }
   },
   "source": [
    "import pandas as pd\n",
    "\n",
    "from IPython.display import display\n",
    "from scipy.optimize import root_scalar, RootResults\n",
    "\n",
    "from functions import RatesUtil\n",
    "from functions.assetClasses.bond import BondPricing"
   ],
   "outputs": [],
   "execution_count": 1
  },
  {
   "metadata": {},
   "cell_type": "markdown",
   "source": "Question 4.1 solution",
   "id": "b3659aef064c9708"
  },
  {
   "metadata": {
    "ExecuteTime": {
     "end_time": "2025-07-12T05:33:44.622638Z",
     "start_time": "2025-07-12T05:33:44.615534Z"
    }
   },
   "cell_type": "code",
   "source": [
    "print(RatesUtil.conversion_btw_discrete_continuous(0.14, 4, False))\n",
    "print(RatesUtil.conversion_btw_discrete(0.14, 4, 1))"
   ],
   "id": "c1f2a2fe52e234f",
   "outputs": [
    {
     "name": "stdout",
     "output_type": "stream",
     "text": [
      "0.13760570686932927\n",
      "0.14752300062499968\n"
     ]
    }
   ],
   "execution_count": 2
  },
  {
   "metadata": {},
   "cell_type": "markdown",
   "source": "Question 4.3 Solution",
   "id": "36b731fcc4a039d8"
  },
  {
   "metadata": {
    "ExecuteTime": {
     "end_time": "2025-07-12T05:33:47.884288Z",
     "start_time": "2025-07-12T05:33:47.871934Z"
    }
   },
   "cell_type": "code",
   "source": [
    "bondPrice: float = BondPricing.bond_pricing_vanilla(100, 1.5, 0.08, 0.104)\n",
    "print(f\"Bond Price = {bondPrice}\")\n",
    "\n",
    "# The second part of the question could be solved using and adhoc method but lack extensibility, here we go\n",
    "# For 6 month and 1-year coupon payment the present value is\n",
    "present_value: float = 4/1.05 + 4/(1.05**2)\n",
    "print(f\"6 and 12 Month present value = {present_value}\")\n",
    "\n",
    "diff: float = bondPrice - present_value\n",
    "diff = 104*(1/diff)\n",
    "zeros_18: float = 2*(diff**(1/3) -1)\n",
    "print(f\"18 Month zero rate = {zeros_18}\")\n",
    "\n",
    "# The better approach is to use either Newton-Raphson, bisection, secant method to solve the problem\n",
    "# this method is more production like code\n",
    "\n",
    "# define your function\n",
    "def finding_zeros(zero_18: float) -> float:\n",
    "    return present_value + 104/(1+zero_18/2)**3 - bondPrice\n",
    "\n",
    "\n",
    "result: RootResults = root_scalar(finding_zeros, method='secant', x0=0.001, x1=1)\n",
    "print(result)\n",
    "\n",
    "payout: float = 1100.00\n",
    "initial_investment: float = 1000.00\n",
    "annual: float = RatesUtil.get_percentage_return(initial_investment, payout, 1.0, 1.0)\n",
    "semi_annual: float = RatesUtil.get_percentage_return(initial_investment, payout, 1, 2)\n",
    "monthly: float = RatesUtil.get_percentage_return(initial_investment, payout, 1, 12)\n",
    "continuos: float = RatesUtil.get_percentage_return(initial_investment, payout, is_continuous=True)\n",
    "\n",
    "print(f\"Given payout of {payout} and initial investment of {initial_investment} Annual compounding is {annual}\")\n",
    "print(f\"Given payout of {payout} and initial investment of {initial_investment} Semiannual compounding is {semi_annual}\")\n",
    "print(f\"Given payout of {payout} and initial investment of {initial_investment} Monthly compounding is {monthly}\")\n",
    "print(f\"Given payout of {payout} and initial investment of {initial_investment} continuous compounding is {continuos}\")"
   ],
   "id": "4cf49611ff8f00dd",
   "outputs": [
    {
     "name": "stdout",
     "output_type": "stream",
     "text": [
      "Bond Price = 96.74431066423686\n",
      "6 and 12 Month present value = 7.437641723356009\n",
      "18 Month zero rate = 0.10416509396963036\n",
      "      converged: True\n",
      "           flag: converged\n",
      " function_calls: 8\n",
      "     iterations: 7\n",
      "           root: 0.10416509396965343\n",
      "         method: secant\n",
      "Given payout of 1100.0 and initial investment of 1000.0 Annual compounding is 0.10000000000000009\n",
      "Given payout of 1100.0 and initial investment of 1000.0 Semiannual compounding is 0.09761769634030326\n",
      "Given payout of 1100.0 and initial investment of 1000.0 Monthly compounding is 0.09568968514684517\n",
      "Given payout of 1100.0 and initial investment of 1000.0 continuous compounding is 0.09531017980432493\n"
     ]
    }
   ],
   "execution_count": 3
  },
  {
   "metadata": {},
   "cell_type": "markdown",
   "source": "Question 4_5 Solution",
   "id": "87a9c4030889bf5b"
  },
  {
   "metadata": {
    "ExecuteTime": {
     "end_time": "2025-07-12T05:35:43.884995Z",
     "start_time": "2025-07-12T05:35:43.857672Z"
    }
   },
   "cell_type": "code",
   "source": [
    "zeros_test_df: pd.DataFrame = pd.DataFrame({'Maturity': [3, 6, 9, 12, 15, 18],\n",
    "                                            'Zero_Rate': [8.0, 8.2, 8.4, 8.5, 8.6, 8.7]})\n",
    "display(zeros_test_df)\n",
    "display(BondPricing.forward_rates(zeros_test_df))"
   ],
   "id": "f0ce324719605564",
   "outputs": [
    {
     "data": {
      "text/plain": [
       "   Maturity  Zero_Rate\n",
       "0         3        8.0\n",
       "1         6        8.2\n",
       "2         9        8.4\n",
       "3        12        8.5\n",
       "4        15        8.6\n",
       "5        18        8.7"
      ],
      "text/html": [
       "<div>\n",
       "<style scoped>\n",
       "    .dataframe tbody tr th:only-of-type {\n",
       "        vertical-align: middle;\n",
       "    }\n",
       "\n",
       "    .dataframe tbody tr th {\n",
       "        vertical-align: top;\n",
       "    }\n",
       "\n",
       "    .dataframe thead th {\n",
       "        text-align: right;\n",
       "    }\n",
       "</style>\n",
       "<table border=\"1\" class=\"dataframe\">\n",
       "  <thead>\n",
       "    <tr style=\"text-align: right;\">\n",
       "      <th></th>\n",
       "      <th>Maturity</th>\n",
       "      <th>Zero_Rate</th>\n",
       "    </tr>\n",
       "  </thead>\n",
       "  <tbody>\n",
       "    <tr>\n",
       "      <th>0</th>\n",
       "      <td>3</td>\n",
       "      <td>8.0</td>\n",
       "    </tr>\n",
       "    <tr>\n",
       "      <th>1</th>\n",
       "      <td>6</td>\n",
       "      <td>8.2</td>\n",
       "    </tr>\n",
       "    <tr>\n",
       "      <th>2</th>\n",
       "      <td>9</td>\n",
       "      <td>8.4</td>\n",
       "    </tr>\n",
       "    <tr>\n",
       "      <th>3</th>\n",
       "      <td>12</td>\n",
       "      <td>8.5</td>\n",
       "    </tr>\n",
       "    <tr>\n",
       "      <th>4</th>\n",
       "      <td>15</td>\n",
       "      <td>8.6</td>\n",
       "    </tr>\n",
       "    <tr>\n",
       "      <th>5</th>\n",
       "      <td>18</td>\n",
       "      <td>8.7</td>\n",
       "    </tr>\n",
       "  </tbody>\n",
       "</table>\n",
       "</div>"
      ]
     },
     "metadata": {},
     "output_type": "display_data"
    },
    {
     "data": {
      "text/plain": [
       "   Maturity  Zero Rates  Forward Rate\n",
       "0       3.0         8.0           0.0\n",
       "1       6.0         8.2           8.4\n",
       "2       9.0         8.4           8.8\n",
       "3      12.0         8.5           8.8\n",
       "4      15.0         8.6           9.0\n",
       "5      18.0         8.7           9.2"
      ],
      "text/html": [
       "<div>\n",
       "<style scoped>\n",
       "    .dataframe tbody tr th:only-of-type {\n",
       "        vertical-align: middle;\n",
       "    }\n",
       "\n",
       "    .dataframe tbody tr th {\n",
       "        vertical-align: top;\n",
       "    }\n",
       "\n",
       "    .dataframe thead th {\n",
       "        text-align: right;\n",
       "    }\n",
       "</style>\n",
       "<table border=\"1\" class=\"dataframe\">\n",
       "  <thead>\n",
       "    <tr style=\"text-align: right;\">\n",
       "      <th></th>\n",
       "      <th>Maturity</th>\n",
       "      <th>Zero Rates</th>\n",
       "      <th>Forward Rate</th>\n",
       "    </tr>\n",
       "  </thead>\n",
       "  <tbody>\n",
       "    <tr>\n",
       "      <th>0</th>\n",
       "      <td>3.0</td>\n",
       "      <td>8.0</td>\n",
       "      <td>0.0</td>\n",
       "    </tr>\n",
       "    <tr>\n",
       "      <th>1</th>\n",
       "      <td>6.0</td>\n",
       "      <td>8.2</td>\n",
       "      <td>8.4</td>\n",
       "    </tr>\n",
       "    <tr>\n",
       "      <th>2</th>\n",
       "      <td>9.0</td>\n",
       "      <td>8.4</td>\n",
       "      <td>8.8</td>\n",
       "    </tr>\n",
       "    <tr>\n",
       "      <th>3</th>\n",
       "      <td>12.0</td>\n",
       "      <td>8.5</td>\n",
       "      <td>8.8</td>\n",
       "    </tr>\n",
       "    <tr>\n",
       "      <th>4</th>\n",
       "      <td>15.0</td>\n",
       "      <td>8.6</td>\n",
       "      <td>9.0</td>\n",
       "    </tr>\n",
       "    <tr>\n",
       "      <th>5</th>\n",
       "      <td>18.0</td>\n",
       "      <td>8.7</td>\n",
       "      <td>9.2</td>\n",
       "    </tr>\n",
       "  </tbody>\n",
       "</table>\n",
       "</div>"
      ]
     },
     "metadata": {},
     "output_type": "display_data"
    }
   ],
   "execution_count": 5
  }
 ],
 "metadata": {
  "kernelspec": {
   "display_name": "Python 3",
   "language": "python",
   "name": "python3"
  },
  "language_info": {
   "codemirror_mode": {
    "name": "ipython",
    "version": 2
   },
   "file_extension": ".py",
   "mimetype": "text/x-python",
   "name": "python",
   "nbconvert_exporter": "python",
   "pygments_lexer": "ipython2",
   "version": "2.7.6"
  }
 },
 "nbformat": 4,
 "nbformat_minor": 5
}
