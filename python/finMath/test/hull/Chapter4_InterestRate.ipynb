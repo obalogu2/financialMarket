{
 "cells": [
  {
   "cell_type": "code",
   "id": "initial_id",
   "metadata": {
    "collapsed": true,
    "ExecuteTime": {
     "end_time": "2025-07-13T14:21:26.888087Z",
     "start_time": "2025-07-13T14:21:26.838076Z"
    }
   },
   "source": [
    "import datetime\n",
    "import math\n",
    "\n",
    "import pandas as pd\n",
    "import numpy as np\n",
    "\n",
    "from IPython.display import display\n",
    "from scipy.optimize import root_scalar, RootResults\n",
    "\n",
    "from functions import RatesUtil\n",
    "from functions.assetClasses.bond import BondPricing"
   ],
   "outputs": [],
   "execution_count": 12
  },
  {
   "metadata": {},
   "cell_type": "markdown",
   "source": "Question 4.1 solution",
   "id": "b3659aef064c9708"
  },
  {
   "metadata": {},
   "cell_type": "code",
   "source": [
    "print(RatesUtil.conversion_btw_discrete_continuous(0.09, 4, True))\n",
    "print(RatesUtil.conversion_btw_discrete(0.14, 4, 1))"
   ],
   "id": "c1f2a2fe52e234f",
   "outputs": [],
   "execution_count": null
  },
  {
   "metadata": {},
   "cell_type": "markdown",
   "source": "Question 4.3 Solution",
   "id": "36b731fcc4a039d8"
  },
  {
   "metadata": {},
   "cell_type": "code",
   "source": [
    "bondPrice: float = BondPricing.bond_pricing_vanilla(100, 1.5, 0.08, 0.104)\n",
    "print(f\"Bond Price = {bondPrice}\")\n",
    "\n",
    "# The second part of the question could be solved using and adhoc method but lack extensibility, here we go\n",
    "# For 6 month and 1-year coupon payment the present value is\n",
    "present_value: float = 4/1.05 + 4/(1.05**2)\n",
    "print(f\"6 and 12 Month present value = {present_value}\")\n",
    "\n",
    "diff: float = bondPrice - present_value\n",
    "diff = 104*(1/diff)\n",
    "zeros_18: float = 2*(diff**(1/3) -1)\n",
    "print(f\"18 Month zero rate = {zeros_18}\")\n",
    "\n",
    "# The better approach is to use either Newton-Raphson, bisection, secant method to solve the problem\n",
    "# this method is more production like code\n",
    "\n",
    "# define your function\n",
    "def finding_zeros(zero_18: float) -> float:\n",
    "    return present_value + 104/(1+zero_18/2)**3 - bondPrice\n",
    "\n",
    "\n",
    "result: RootResults = root_scalar(finding_zeros, method='secant', x0=0.001, x1=1)\n",
    "print(result)\n",
    "\n",
    "payout: float = 1100.00\n",
    "initial_investment: float = 1000.00\n",
    "annual: float = RatesUtil.get_percentage_return(initial_investment, payout, 1.0, 1.0)\n",
    "semi_annual: float = RatesUtil.get_percentage_return(initial_investment, payout, 1, 2)\n",
    "monthly: float = RatesUtil.get_percentage_return(initial_investment, payout, 1, 12)\n",
    "continuos: float = RatesUtil.get_percentage_return(initial_investment, payout, is_continuous=True)\n",
    "\n",
    "print(f\"Given payout of {payout} and initial investment of {initial_investment} Annual compounding is {annual}\")\n",
    "print(f\"Given payout of {payout} and initial investment of {initial_investment} Semiannual compounding is {semi_annual}\")\n",
    "print(f\"Given payout of {payout} and initial investment of {initial_investment} Monthly compounding is {monthly}\")\n",
    "print(f\"Given payout of {payout} and initial investment of {initial_investment} continuous compounding is {continuos}\")"
   ],
   "id": "4cf49611ff8f00dd",
   "outputs": [],
   "execution_count": null
  },
  {
   "metadata": {},
   "cell_type": "markdown",
   "source": "Question 4_5 Solution",
   "id": "87a9c4030889bf5b"
  },
  {
   "metadata": {},
   "cell_type": "code",
   "source": [
    "zeros_test_df: pd.DataFrame = pd.DataFrame({'Maturity': [3, 6, 9, 12, 15, 18],\n",
    "                                            'Zero_Rate': [8.0, 8.2, 8.4, 8.5, 8.6, 8.7]})\n",
    "display(zeros_test_df)\n",
    "display(BondPricing.forward_rates(zeros_test_df))"
   ],
   "id": "f0ce324719605564",
   "outputs": [],
   "execution_count": null
  },
  {
   "metadata": {},
   "cell_type": "markdown",
   "source": [
    "The Solution to Question 4.6 follows from the answer from Question 4.5\n",
    "Based on the ending time of between 1 year and 1.25 years is choosen as the period, therefore\n",
    "\n",
    "$R_{2}$ = 8.6% <br>\n",
    "$R_{1}$ = 8.5% <br>\n",
    "$T_{2}$ = 15.0 (1.25 years) <br>\n",
    "$T_{1}$ = 12.0 (1.00 year) <br>\n",
    "\n",
    "$R_{F}$ = 9.0% (Continuous compounding) <br>"
   ],
   "id": "4406e89f9c5163b2"
  },
  {
   "metadata": {},
   "cell_type": "code",
   "source": [
    "# convert the forward rate from continuous compounding to quarterly compounding\n",
    "forward_rate: float = RatesUtil.conversion_btw_discrete_continuous(0.09, 4, True)\n",
    "print(forward_rate)\n",
    "\n",
    "pay_off:float = 1000000*(0.095 - forward_rate)*(1.25 - 1.00) * math.exp(-0.086*1.25)\n",
    "print(pay_off)"
   ],
   "id": "95ba3ee931f9ace0",
   "outputs": [],
   "execution_count": null
  },
  {
   "metadata": {
    "ExecuteTime": {
     "end_time": "2025-07-13T14:11:00.456444Z",
     "start_time": "2025-07-13T14:11:00.404792Z"
    }
   },
   "cell_type": "code",
   "source": [
    "from functions.daysCount import actual_actual, thirty_three_sixty\n",
    "from datetime import date\n",
    "\n",
    "settle_date: date = date(2018, 3, 5)\n",
    "coupon_dates: list = [date(2018, 1, 10), date(2018, 7, 10)]\n",
    "\n",
    "print( actual_actual(settle_date, coupon_dates) )\n",
    "print( thirty_three_sixty(settle_date, coupon_dates) )"
   ],
   "id": "9c8e27fffeee4e7e",
   "outputs": [
    {
     "name": "stdout",
     "output_type": "stream",
     "text": [
      "(54, 181, 0.2983425414364641)\n",
      "(51, 180, 0.2833333333333333)\n"
     ]
    }
   ],
   "execution_count": 9
  },
  {
   "metadata": {},
   "cell_type": "markdown",
   "source": "Solution for Question 4_11 Hull Seventh Edition",
   "id": "e092ef5866e98bb3"
  },
  {
   "metadata": {
    "ExecuteTime": {
     "end_time": "2025-07-13T14:10:15.938751Z",
     "start_time": "2025-07-13T14:10:15.823516Z"
    }
   },
   "cell_type": "code",
   "source": [
    "\n",
    "df = pd.DataFrame({'maturities': [0.5, 1.0, 1.5, 2.0, 2.5], 'zero_rates': [0.04, 0.042, 0.044, 0.046, 0.048],\n",
    "                   'payments':[2,2,2,2,102]})\n",
    "p: float = BondPricing.bond_pricing(df)\n",
    "print(df)\n",
    "print(p)"
   ],
   "id": "40df38948b317a1b",
   "outputs": [
    {
     "name": "stdout",
     "output_type": "stream",
     "text": [
      "   maturities  zero_rates  payments\n",
      "0         0.5       0.040         2\n",
      "1         1.0       0.042         2\n",
      "2         1.5       0.044         2\n",
      "3         2.0       0.046         2\n",
      "4         2.5       0.048       102\n",
      "98.04049348058196\n"
     ]
    }
   ],
   "execution_count": 6
  },
  {
   "metadata": {},
   "cell_type": "markdown",
   "source": "Solution for Question 4_13",
   "id": "f82c6810788ae301"
  },
  {
   "metadata": {
    "ExecuteTime": {
     "end_time": "2025-07-13T15:51:09.178146Z",
     "start_time": "2025-07-13T15:51:08.508377Z"
    }
   },
   "cell_type": "code",
   "source": [
    "df = pd.DataFrame({'maturities': [0.5, 1.0, 1.5, 2.0], 'zero_rates': [0.05, 0.06, 0.065, 0.07], 'payments':[2,2,2,102]})\n",
    "cash_price: float = 100.0\n",
    "\n",
    "#Zero function used by the root finder\n",
    "#\n",
    "def bond_pricing_func(coupon_val: float, price=cash_price, zeros_df: pd.DataFrame = df) -> float :\n",
    "\n",
    "    temp_list: list = [ coupon_val*x for x in np.ones(4).tolist() ]\n",
    "    temp_list[-1] = temp_list[-1] + 100\n",
    "\n",
    "    df['payments'] = pd.Series(temp_list)\n",
    "\n",
    "    return price - BondPricing.bond_pricing(zeros_df)\n",
    "\n",
    "display(df)\n",
    "\n",
    "result: RootResults = root_scalar(bond_pricing_func, method='secant', x0=0.001, x1=10)\n",
    "\n",
    "print(result)\n",
    "display(df)\n"
   ],
   "id": "251578ab3241348",
   "outputs": [
    {
     "data": {
      "text/plain": [
       "   maturities  zero_rates  payments\n",
       "0         0.5       0.050         2\n",
       "1         1.0       0.060         2\n",
       "2         1.5       0.065         2\n",
       "3         2.0       0.070       102"
      ],
      "text/html": [
       "<div>\n",
       "<style scoped>\n",
       "    .dataframe tbody tr th:only-of-type {\n",
       "        vertical-align: middle;\n",
       "    }\n",
       "\n",
       "    .dataframe tbody tr th {\n",
       "        vertical-align: top;\n",
       "    }\n",
       "\n",
       "    .dataframe thead th {\n",
       "        text-align: right;\n",
       "    }\n",
       "</style>\n",
       "<table border=\"1\" class=\"dataframe\">\n",
       "  <thead>\n",
       "    <tr style=\"text-align: right;\">\n",
       "      <th></th>\n",
       "      <th>maturities</th>\n",
       "      <th>zero_rates</th>\n",
       "      <th>payments</th>\n",
       "    </tr>\n",
       "  </thead>\n",
       "  <tbody>\n",
       "    <tr>\n",
       "      <th>0</th>\n",
       "      <td>0.5</td>\n",
       "      <td>0.050</td>\n",
       "      <td>2</td>\n",
       "    </tr>\n",
       "    <tr>\n",
       "      <th>1</th>\n",
       "      <td>1.0</td>\n",
       "      <td>0.060</td>\n",
       "      <td>2</td>\n",
       "    </tr>\n",
       "    <tr>\n",
       "      <th>2</th>\n",
       "      <td>1.5</td>\n",
       "      <td>0.065</td>\n",
       "      <td>2</td>\n",
       "    </tr>\n",
       "    <tr>\n",
       "      <th>3</th>\n",
       "      <td>2.0</td>\n",
       "      <td>0.070</td>\n",
       "      <td>102</td>\n",
       "    </tr>\n",
       "  </tbody>\n",
       "</table>\n",
       "</div>"
      ]
     },
     "metadata": {},
     "output_type": "display_data"
    },
    {
     "name": "stdout",
     "output_type": "stream",
     "text": [
      "      converged: True\n",
      "           flag: converged\n",
      " function_calls: 3\n",
      "     iterations: 2\n",
      "           root: 3.5370387393915\n",
      "         method: secant\n"
     ]
    },
    {
     "data": {
      "text/plain": [
       "   maturities  zero_rates    payments\n",
       "0         0.5       0.050    3.537039\n",
       "1         1.0       0.060    3.537039\n",
       "2         1.5       0.065    3.537039\n",
       "3         2.0       0.070  103.537039"
      ],
      "text/html": [
       "<div>\n",
       "<style scoped>\n",
       "    .dataframe tbody tr th:only-of-type {\n",
       "        vertical-align: middle;\n",
       "    }\n",
       "\n",
       "    .dataframe tbody tr th {\n",
       "        vertical-align: top;\n",
       "    }\n",
       "\n",
       "    .dataframe thead th {\n",
       "        text-align: right;\n",
       "    }\n",
       "</style>\n",
       "<table border=\"1\" class=\"dataframe\">\n",
       "  <thead>\n",
       "    <tr style=\"text-align: right;\">\n",
       "      <th></th>\n",
       "      <th>maturities</th>\n",
       "      <th>zero_rates</th>\n",
       "      <th>payments</th>\n",
       "    </tr>\n",
       "  </thead>\n",
       "  <tbody>\n",
       "    <tr>\n",
       "      <th>0</th>\n",
       "      <td>0.5</td>\n",
       "      <td>0.050</td>\n",
       "      <td>3.537039</td>\n",
       "    </tr>\n",
       "    <tr>\n",
       "      <th>1</th>\n",
       "      <td>1.0</td>\n",
       "      <td>0.060</td>\n",
       "      <td>3.537039</td>\n",
       "    </tr>\n",
       "    <tr>\n",
       "      <th>2</th>\n",
       "      <td>1.5</td>\n",
       "      <td>0.065</td>\n",
       "      <td>3.537039</td>\n",
       "    </tr>\n",
       "    <tr>\n",
       "      <th>3</th>\n",
       "      <td>2.0</td>\n",
       "      <td>0.070</td>\n",
       "      <td>103.537039</td>\n",
       "    </tr>\n",
       "  </tbody>\n",
       "</table>\n",
       "</div>"
      ]
     },
     "metadata": {},
     "output_type": "display_data"
    }
   ],
   "execution_count": 39
  }
 ],
 "metadata": {
  "kernelspec": {
   "display_name": "Python 3",
   "language": "python",
   "name": "python3"
  },
  "language_info": {
   "codemirror_mode": {
    "name": "ipython",
    "version": 2
   },
   "file_extension": ".py",
   "mimetype": "text/x-python",
   "name": "python",
   "nbconvert_exporter": "python",
   "pygments_lexer": "ipython2",
   "version": "2.7.6"
  }
 },
 "nbformat": 4,
 "nbformat_minor": 5
}
